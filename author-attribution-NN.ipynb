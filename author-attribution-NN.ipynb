{
 "cells": [
  {
   "cell_type": "code",
   "execution_count": 1,
   "metadata": {},
   "outputs": [],
   "source": [
    "import pandas as pd\n",
    "import numpy as np\n",
    "from sklearn.naive_bayes import MultinomialNB\n",
    "from sklearn.linear_model import LogisticRegression\n",
    "from sklearn.neighbors import KNeighborsClassifier\n",
    "from sklearn.ensemble import RandomForestClassifier\n",
    "from sklearn.neural_network import MLPClassifier\n",
    "from sklearn.svm import SVC\n",
    "from sklearn.feature_extraction.text import CountVectorizer,TfidfVectorizer\n",
    "from sklearn.model_selection import train_test_split\n",
    "from sklearn.metrics import accuracy_score"
   ]
  },
  {
   "cell_type": "code",
   "execution_count": 2,
   "metadata": {},
   "outputs": [],
   "source": [
    "\n",
    "df = pd.read_csv('dataset/Gungor_2018_VictorianAuthorAttribution_data-train.csv', encoding = \"ISO-8859-1\")\n",
    "df['author'] = df['author'] -1"
   ]
  },
  {
   "cell_type": "code",
   "execution_count": 3,
   "metadata": {},
   "outputs": [
    {
     "data": {
      "text/html": [
       "<div>\n",
       "<style scoped>\n",
       "    .dataframe tbody tr th:only-of-type {\n",
       "        vertical-align: middle;\n",
       "    }\n",
       "\n",
       "    .dataframe tbody tr th {\n",
       "        vertical-align: top;\n",
       "    }\n",
       "\n",
       "    .dataframe thead th {\n",
       "        text-align: right;\n",
       "    }\n",
       "</style>\n",
       "<table border=\"1\" class=\"dataframe\">\n",
       "  <thead>\n",
       "    <tr style=\"text-align: right;\">\n",
       "      <th></th>\n",
       "      <th>text</th>\n",
       "      <th>author</th>\n",
       "    </tr>\n",
       "  </thead>\n",
       "  <tbody>\n",
       "    <tr>\n",
       "      <th>0</th>\n",
       "      <td>ou have time to listen i will give you the ent...</td>\n",
       "      <td>0</td>\n",
       "    </tr>\n",
       "    <tr>\n",
       "      <th>1</th>\n",
       "      <td>wish for solitude he was twenty years of age a...</td>\n",
       "      <td>0</td>\n",
       "    </tr>\n",
       "    <tr>\n",
       "      <th>2</th>\n",
       "      <td>and the skirt blew in perfect freedom about th...</td>\n",
       "      <td>0</td>\n",
       "    </tr>\n",
       "    <tr>\n",
       "      <th>3</th>\n",
       "      <td>of san and the rows of shops opposite impresse...</td>\n",
       "      <td>0</td>\n",
       "    </tr>\n",
       "    <tr>\n",
       "      <th>4</th>\n",
       "      <td>an hour s walk was as tiresome as three in a s...</td>\n",
       "      <td>0</td>\n",
       "    </tr>\n",
       "  </tbody>\n",
       "</table>\n",
       "</div>"
      ],
      "text/plain": [
       "                                                text  author\n",
       "0  ou have time to listen i will give you the ent...       0\n",
       "1  wish for solitude he was twenty years of age a...       0\n",
       "2  and the skirt blew in perfect freedom about th...       0\n",
       "3  of san and the rows of shops opposite impresse...       0\n",
       "4  an hour s walk was as tiresome as three in a s...       0"
      ]
     },
     "execution_count": 3,
     "metadata": {},
     "output_type": "execute_result"
    }
   ],
   "source": [
    "df.head()"
   ]
  },
  {
   "cell_type": "code",
   "execution_count": 4,
   "metadata": {},
   "outputs": [],
   "source": [
    "import re\n",
    "df['text']= df['text'].apply(lambda x: x.lower())\n",
    "df['text']= df['text'].apply(lambda x: re.sub(r'[^a-zA-Z\\s]','',x))\n"
   ]
  },
  {
   "cell_type": "code",
   "execution_count": 5,
   "metadata": {},
   "outputs": [
    {
     "data": {
      "text/html": [
       "<div>\n",
       "<style scoped>\n",
       "    .dataframe tbody tr th:only-of-type {\n",
       "        vertical-align: middle;\n",
       "    }\n",
       "\n",
       "    .dataframe tbody tr th {\n",
       "        vertical-align: top;\n",
       "    }\n",
       "\n",
       "    .dataframe thead th {\n",
       "        text-align: right;\n",
       "    }\n",
       "</style>\n",
       "<table border=\"1\" class=\"dataframe\">\n",
       "  <thead>\n",
       "    <tr style=\"text-align: right;\">\n",
       "      <th></th>\n",
       "      <th>text</th>\n",
       "      <th>author</th>\n",
       "    </tr>\n",
       "  </thead>\n",
       "  <tbody>\n",
       "    <tr>\n",
       "      <th>0</th>\n",
       "      <td>ou have time to listen i will give you the ent...</td>\n",
       "      <td>0</td>\n",
       "    </tr>\n",
       "    <tr>\n",
       "      <th>1</th>\n",
       "      <td>wish for solitude he was twenty years of age a...</td>\n",
       "      <td>0</td>\n",
       "    </tr>\n",
       "    <tr>\n",
       "      <th>2</th>\n",
       "      <td>and the skirt blew in perfect freedom about th...</td>\n",
       "      <td>0</td>\n",
       "    </tr>\n",
       "    <tr>\n",
       "      <th>3</th>\n",
       "      <td>of san and the rows of shops opposite impresse...</td>\n",
       "      <td>0</td>\n",
       "    </tr>\n",
       "    <tr>\n",
       "      <th>4</th>\n",
       "      <td>an hour s walk was as tiresome as three in a s...</td>\n",
       "      <td>0</td>\n",
       "    </tr>\n",
       "  </tbody>\n",
       "</table>\n",
       "</div>"
      ],
      "text/plain": [
       "                                                text  author\n",
       "0  ou have time to listen i will give you the ent...       0\n",
       "1  wish for solitude he was twenty years of age a...       0\n",
       "2  and the skirt blew in perfect freedom about th...       0\n",
       "3  of san and the rows of shops opposite impresse...       0\n",
       "4  an hour s walk was as tiresome as three in a s...       0"
      ]
     },
     "execution_count": 5,
     "metadata": {},
     "output_type": "execute_result"
    }
   ],
   "source": [
    "df.head()"
   ]
  },
  {
   "cell_type": "code",
   "execution_count": 6,
   "metadata": {},
   "outputs": [],
   "source": [
    "X = df['text']\n",
    "Y = df['author']\n"
   ]
  },
  {
   "cell_type": "code",
   "execution_count": 52,
   "metadata": {},
   "outputs": [
    {
     "data": {
      "image/png": "[encoded data removed]",
      "text/plain": [
       "<Figure size 1000x500 with 1 Axes>"
      ]
     },
     "metadata": {},
     "output_type": "display_data"
    }
   ],
   "source": [
    "import matplotlib.pyplot as plt\n",
    "\n",
    "data = dict(df['author'].value_counts())\n",
    "courses = list(data.keys())\n",
    "values = list(data.values())\n",
    "  \n",
    "fig = plt.figure(figsize = (10, 5))\n",
    " \n",
    "# creating the bar plot\n",
    "plt.bar(courses, values, color ='maroon', \n",
    "        width = 0.4)\n",
    " \n",
    "plt.xlabel(\"Author\")\n",
    "plt.ylabel(\"Frequency\")\n",
    "plt.title(\"Frequency of each\")\n",
    "plt.show()"
   ]
  },
  {
   "cell_type": "code",
   "execution_count": 7,
   "metadata": {},
   "outputs": [],
   "source": [
    "MAX_FEATURES = 9807"
   ]
  },
  {
   "cell_type": "code",
   "execution_count": 8,
   "metadata": {},
   "outputs": [],
   "source": [
    "from nltk.corpus import stopwords\n",
    "vectorizer = TfidfVectorizer(analyzer='word',stop_words=stopwords.words('english'),max_features=MAX_FEATURES)\n",
    "X = vectorizer.fit_transform(X).toarray()\n",
    "Y= Y.to_numpy()"
   ]
  },
  {
   "cell_type": "code",
   "execution_count": 9,
   "metadata": {},
   "outputs": [
    {
     "name": "stdout",
     "output_type": "stream",
     "text": [
      "Shape of X: (53678, 9807)\n"
     ]
    }
   ],
   "source": [
    "print(f\"Shape of X: {X.shape}\")"
   ]
  },
  {
   "cell_type": "code",
   "execution_count": 10,
   "metadata": {},
   "outputs": [
    {
     "data": {
      "text/html": [
       "<div>\n",
       "<style scoped>\n",
       "    .dataframe tbody tr th:only-of-type {\n",
       "        vertical-align: middle;\n",
       "    }\n",
       "\n",
       "    .dataframe tbody tr th {\n",
       "        vertical-align: top;\n",
       "    }\n",
       "\n",
       "    .dataframe thead th {\n",
       "        text-align: right;\n",
       "    }\n",
       "</style>\n",
       "<table border=\"1\" class=\"dataframe\">\n",
       "  <thead>\n",
       "    <tr style=\"text-align: right;\">\n",
       "      <th></th>\n",
       "      <th>aa</th>\n",
       "      <th>aad</th>\n",
       "      <th>ab</th>\n",
       "      <th>abandon</th>\n",
       "      <th>abandoned</th>\n",
       "      <th>abashed</th>\n",
       "      <th>abbey</th>\n",
       "      <th>abide</th>\n",
       "      <th>abiding</th>\n",
       "      <th>abilities</th>\n",
       "      <th>...</th>\n",
       "      <th>young</th>\n",
       "      <th>younger</th>\n",
       "      <th>youngest</th>\n",
       "      <th>youth</th>\n",
       "      <th>youthful</th>\n",
       "      <th>youths</th>\n",
       "      <th>youve</th>\n",
       "      <th>zeal</th>\n",
       "      <th>zealous</th>\n",
       "      <th>zest</th>\n",
       "    </tr>\n",
       "  </thead>\n",
       "  <tbody>\n",
       "    <tr>\n",
       "      <th>0</th>\n",
       "      <td>0.0</td>\n",
       "      <td>0.0</td>\n",
       "      <td>0.0</td>\n",
       "      <td>0.0</td>\n",
       "      <td>0.0</td>\n",
       "      <td>0.0</td>\n",
       "      <td>0.0</td>\n",
       "      <td>0.0</td>\n",
       "      <td>0.0</td>\n",
       "      <td>0.0</td>\n",
       "      <td>...</td>\n",
       "      <td>0.061786</td>\n",
       "      <td>0.0</td>\n",
       "      <td>0.0</td>\n",
       "      <td>0.000000</td>\n",
       "      <td>0.0</td>\n",
       "      <td>0.000000</td>\n",
       "      <td>0.0</td>\n",
       "      <td>0.0</td>\n",
       "      <td>0.0</td>\n",
       "      <td>0.0</td>\n",
       "    </tr>\n",
       "    <tr>\n",
       "      <th>1</th>\n",
       "      <td>0.0</td>\n",
       "      <td>0.0</td>\n",
       "      <td>0.0</td>\n",
       "      <td>0.0</td>\n",
       "      <td>0.0</td>\n",
       "      <td>0.0</td>\n",
       "      <td>0.0</td>\n",
       "      <td>0.0</td>\n",
       "      <td>0.0</td>\n",
       "      <td>0.0</td>\n",
       "      <td>...</td>\n",
       "      <td>0.079130</td>\n",
       "      <td>0.0</td>\n",
       "      <td>0.0</td>\n",
       "      <td>0.036152</td>\n",
       "      <td>0.0</td>\n",
       "      <td>0.065186</td>\n",
       "      <td>0.0</td>\n",
       "      <td>0.0</td>\n",
       "      <td>0.0</td>\n",
       "      <td>0.0</td>\n",
       "    </tr>\n",
       "    <tr>\n",
       "      <th>2</th>\n",
       "      <td>0.0</td>\n",
       "      <td>0.0</td>\n",
       "      <td>0.0</td>\n",
       "      <td>0.0</td>\n",
       "      <td>0.0</td>\n",
       "      <td>0.0</td>\n",
       "      <td>0.0</td>\n",
       "      <td>0.0</td>\n",
       "      <td>0.0</td>\n",
       "      <td>0.0</td>\n",
       "      <td>...</td>\n",
       "      <td>0.087735</td>\n",
       "      <td>0.0</td>\n",
       "      <td>0.0</td>\n",
       "      <td>0.000000</td>\n",
       "      <td>0.0</td>\n",
       "      <td>0.000000</td>\n",
       "      <td>0.0</td>\n",
       "      <td>0.0</td>\n",
       "      <td>0.0</td>\n",
       "      <td>0.0</td>\n",
       "    </tr>\n",
       "    <tr>\n",
       "      <th>3</th>\n",
       "      <td>0.0</td>\n",
       "      <td>0.0</td>\n",
       "      <td>0.0</td>\n",
       "      <td>0.0</td>\n",
       "      <td>0.0</td>\n",
       "      <td>0.0</td>\n",
       "      <td>0.0</td>\n",
       "      <td>0.0</td>\n",
       "      <td>0.0</td>\n",
       "      <td>0.0</td>\n",
       "      <td>...</td>\n",
       "      <td>0.021153</td>\n",
       "      <td>0.0</td>\n",
       "      <td>0.0</td>\n",
       "      <td>0.000000</td>\n",
       "      <td>0.0</td>\n",
       "      <td>0.000000</td>\n",
       "      <td>0.0</td>\n",
       "      <td>0.0</td>\n",
       "      <td>0.0</td>\n",
       "      <td>0.0</td>\n",
       "    </tr>\n",
       "    <tr>\n",
       "      <th>4</th>\n",
       "      <td>0.0</td>\n",
       "      <td>0.0</td>\n",
       "      <td>0.0</td>\n",
       "      <td>0.0</td>\n",
       "      <td>0.0</td>\n",
       "      <td>0.0</td>\n",
       "      <td>0.0</td>\n",
       "      <td>0.0</td>\n",
       "      <td>0.0</td>\n",
       "      <td>0.0</td>\n",
       "      <td>...</td>\n",
       "      <td>0.019981</td>\n",
       "      <td>0.0</td>\n",
       "      <td>0.0</td>\n",
       "      <td>0.000000</td>\n",
       "      <td>0.0</td>\n",
       "      <td>0.000000</td>\n",
       "      <td>0.0</td>\n",
       "      <td>0.0</td>\n",
       "      <td>0.0</td>\n",
       "      <td>0.0</td>\n",
       "    </tr>\n",
       "  </tbody>\n",
       "</table>\n",
       "<p>5 rows × 9807 columns</p>\n",
       "</div>"
      ],
      "text/plain": [
       "    aa  aad   ab  abandon  abandoned  abashed  abbey  abide  abiding  \\\n",
       "0  0.0  0.0  0.0      0.0        0.0      0.0    0.0    0.0      0.0   \n",
       "1  0.0  0.0  0.0      0.0        0.0      0.0    0.0    0.0      0.0   \n",
       "2  0.0  0.0  0.0      0.0        0.0      0.0    0.0    0.0      0.0   \n",
       "3  0.0  0.0  0.0      0.0        0.0      0.0    0.0    0.0      0.0   \n",
       "4  0.0  0.0  0.0      0.0        0.0      0.0    0.0    0.0      0.0   \n",
       "\n",
       "   abilities  ...     young  younger  youngest     youth  youthful    youths  \\\n",
       "0        0.0  ...  0.061786      0.0       0.0  0.000000       0.0  0.000000   \n",
       "1        0.0  ...  0.079130      0.0       0.0  0.036152       0.0  0.065186   \n",
       "2        0.0  ...  0.087735      0.0       0.0  0.000000       0.0  0.000000   \n",
       "3        0.0  ...  0.021153      0.0       0.0  0.000000       0.0  0.000000   \n",
       "4        0.0  ...  0.019981      0.0       0.0  0.000000       0.0  0.000000   \n",
       "\n",
       "   youve  zeal  zealous  zest  \n",
       "0    0.0   0.0      0.0   0.0  \n",
       "1    0.0   0.0      0.0   0.0  \n",
       "2    0.0   0.0      0.0   0.0  \n",
       "3    0.0   0.0      0.0   0.0  \n",
       "4    0.0   0.0      0.0   0.0  \n",
       "\n",
       "[5 rows x 9807 columns]"
      ]
     },
     "execution_count": 10,
     "metadata": {},
     "output_type": "execute_result"
    }
   ],
   "source": [
    "features = vectorizer.get_feature_names_out()\n",
    "df_post_processing = pd.DataFrame(X,columns=features).head()\n",
    "df_post_processing.head()"
   ]
  },
  {
   "cell_type": "code",
   "execution_count": 11,
   "metadata": {},
   "outputs": [],
   "source": [
    "from sklearn.preprocessing import MinMaxScaler\n",
    "scaler = MinMaxScaler()\n",
    "X = scaler.fit_transform(X)"
   ]
  },
  {
   "cell_type": "code",
   "execution_count": 12,
   "metadata": {},
   "outputs": [
    {
     "data": {
      "text/plain": [
       "((53678, 9807), (53678, 1))"
      ]
     },
     "execution_count": 12,
     "metadata": {},
     "output_type": "execute_result"
    }
   ],
   "source": [
    "X = np.array(X,dtype=np.float32)\n",
    "Y = np.array(Y,dtype=np.float32).reshape(-1,1)\n",
    "X.shape , Y.shape"
   ]
  },
  {
   "cell_type": "code",
   "execution_count": 44,
   "metadata": {},
   "outputs": [
    {
     "data": {
      "text/plain": [
       "{0,\n",
       " 1,\n",
       " 2,\n",
       " 3,\n",
       " 4,\n",
       " 5,\n",
       " 6,\n",
       " 7,\n",
       " 8,\n",
       " 9,\n",
       " 10,\n",
       " 11,\n",
       " 12,\n",
       " 13,\n",
       " 14,\n",
       " 15,\n",
       " 16,\n",
       " 17,\n",
       " 18,\n",
       " 19,\n",
       " 20,\n",
       " 21,\n",
       " 22,\n",
       " 23,\n",
       " 24,\n",
       " 25,\n",
       " 26,\n",
       " 27,\n",
       " 28,\n",
       " 29,\n",
       " 30,\n",
       " 31,\n",
       " 32,\n",
       " 33,\n",
       " 34,\n",
       " 35,\n",
       " 36,\n",
       " 37,\n",
       " 38,\n",
       " 39,\n",
       " 40,\n",
       " 41,\n",
       " 42,\n",
       " 43,\n",
       " 44}"
      ]
     },
     "execution_count": 44,
     "metadata": {},
     "output_type": "execute_result"
    }
   ],
   "source": [
    "from sklearn.preprocessing import LabelEncoder\n",
    "le = LabelEncoder() \n",
    "Y = le.fit_transform(Y)\n",
    "set(Y)"
   ]
  },
  {
   "cell_type": "markdown",
   "metadata": {},
   "source": [
    "### Splitting Dataset into traing,val,test"
   ]
  },
  {
   "cell_type": "code",
   "execution_count": 14,
   "metadata": {},
   "outputs": [
    {
     "name": "stdout",
     "output_type": "stream",
     "text": [
      "(40258, 9807, 1) (8052, 9807) (5368, 9807)\n",
      "(40258,) (8052,) (5368,)\n"
     ]
    }
   ],
   "source": [
    "import numpy as np  \n",
    "\n",
    "train_ratio = 0.75\n",
    "validation_ratio = 0.15\n",
    "test_ratio = 0.10\n",
    "\n",
    "x_train, x_test, y_train, y_test = train_test_split(X, Y, test_size=1 - train_ratio,)\n",
    "\n",
    "x_val, x_test, y_val, y_test = train_test_split(x_test, y_test, test_size=test_ratio/(test_ratio + validation_ratio)) \n",
    "\n",
    "\n",
    "x_train =x_train.reshape(-1,MAX_FEATURES,1)\n",
    "\n",
    "print(x_train.shape, x_val.shape, x_test.shape)\n",
    "print(y_train.shape, y_val.shape, y_test.shape)"
   ]
  },
  {
   "cell_type": "code",
   "execution_count": 15,
   "metadata": {},
   "outputs": [],
   "source": [
    "BATCH_SIZE = 32\n",
    "NUM_CLASSES = 45\n"
   ]
  },
  {
   "cell_type": "code",
   "execution_count": 16,
   "metadata": {},
   "outputs": [],
   "source": [
    "import torch\n",
    "import torch.nn as nn\n",
    "import torchvision\n",
    "import torchvision.transforms as transforms\n",
    "torch.manual_seed(0)\n",
    "import tqdm\n",
    "device = torch.device(\"cuda\" if torch.cuda.is_available() else \"cpu\")"
   ]
  },
  {
   "cell_type": "code",
   "execution_count": 17,
   "metadata": {},
   "outputs": [],
   "source": [
    "train_dl = torch.utils.data.DataLoader(dataset= list(zip(x_train,y_train)), shuffle=True, batch_size=BATCH_SIZE)\n",
    "val_dl = torch.utils.data.DataLoader(dataset= list(zip(x_val,y_val)), shuffle=True, batch_size=BATCH_SIZE)\n",
    "test_dl = torch.utils.data.DataLoader(dataset= list(zip(x_test,y_test)), shuffle=True, batch_size=BATCH_SIZE)"
   ]
  },
  {
   "cell_type": "markdown",
   "metadata": {},
   "source": [
    "### Defining Model"
   ]
  },
  {
   "cell_type": "code",
   "execution_count": 22,
   "metadata": {},
   "outputs": [],
   "source": [
    "class Net(nn.Module):\n",
    "    def __init__(self):\n",
    "        super(Net,self).__init__()\n",
    "        self.dropout = nn.Dropout(0.5)\n",
    "        self.fc1 = nn.Linear(MAX_FEATURES,1024)\n",
    "        self.fc2 = nn.Linear(1024,64)\n",
    "        self.fc3 = nn.Linear(64,NUM_CLASSES)\n",
    "\n",
    "    def forward(self,x):\n",
    "        x = torch.relu(self.fc1(x))\n",
    "        x = self.dropout(x)\n",
    "        x = torch.relu(self.fc2(x))\n",
    "        x = self.dropout(x)\n",
    "        x = self.fc3(x)\n",
    "        return x\n",
    "\n",
    "def train_model(optim = 'Adam', lr = 0.0001, num_epochs=20):\n",
    "    model = Net().to(device)\n",
    "    criterion = nn.CrossEntropyLoss()\n",
    "    if optim == 'SGD':\n",
    "        optim = torch.optim.SGD(model.parameters(),lr=lr,momentum=0.9,nesterov=True)\n",
    "    else:\n",
    "        optim = torch.optim.Adam(model.parameters(),lr=lr,weight_decay=1e-5)\n",
    "    \n",
    "\n",
    "    epochs= tqdm.tqdm(range(num_epochs))\n",
    "    n_total_steps = len(train_dl)\n",
    "\n",
    "    trainingEpoch_loss = []\n",
    "    validationEpoch_loss = []\n",
    "    train_acc_history = []\n",
    "    val_acc_history = []\n",
    "\n",
    "    for epoch in epochs:\n",
    "        train_loss = []\n",
    "        model.train()\n",
    "\n",
    "        n_correct = 0\n",
    "        n_samples = 0\n",
    "        for i,batch in enumerate(train_dl):\n",
    "            \n",
    "            input = batch[0].reshape(-1, MAX_FEATURES).to(device)\n",
    "            label= batch[1].to(device)\n",
    "            # Forward-pass\n",
    "            output = model(input)\n",
    "            loss = criterion(output,label)\n",
    "            \n",
    "            # Backward-pass and optimize\n",
    "            optim.zero_grad()\n",
    "            loss.backward()\n",
    "            optim.step()\n",
    "            train_loss.append(loss.item())\n",
    "\n",
    "            _, pred = torch.max(output,1)\n",
    "            n_samples += label.shape[0]\n",
    "            n_correct += (pred == label).sum().item()\n",
    "\n",
    "        train_acc= 100.0 * n_correct / n_samples\n",
    "        train_acc_history.append(train_acc)\n",
    "        loss_now = np.mean(train_loss)\n",
    "        trainingEpoch_loss.append(loss_now)\n",
    "        model.eval()     # Optional when not using Model Specific layer\n",
    "\n",
    "        n_correct = 0\n",
    "        n_samples = 0\n",
    "        for i, batch in enumerate(val_dl):\n",
    "            validationStep_loss = []\n",
    "            input = batch[0].reshape(-1, MAX_FEATURES).to(device)    \n",
    "            label= batch[1].to(device)\n",
    "            # Forward Pass\n",
    "            outputs = model(input)\n",
    "            # Find the Loss\n",
    "            validation_loss = criterion(outputs, label)\n",
    "            # Calculate Loss\n",
    "            validationStep_loss.append(validation_loss.item())\n",
    "\n",
    "            _, pred = torch.max(outputs,1)\n",
    "            n_samples += label.shape[0]\n",
    "            n_correct += (pred == label).sum().item()\n",
    "\n",
    "        val_acc= 100.0 * n_correct / n_samples\n",
    "        val_acc_history.append(val_acc)\n",
    "        validationEpoch_loss.append(np.array(validationStep_loss).mean())\n",
    "        epochs.set_postfix({\"loss\": loss.item(), \"val_loss\": validation_loss.item(),\"train_acc\": train_acc,\"val_acc\": val_acc})\n",
    "        print(f'epoch {epoch+1} / {num_epochs}, step {i+1}/ {n_total_steps}, loss = {loss.item():.4f}, val_loss = {validation_loss.item():.4f}')\n",
    "    return trainingEpoch_loss, train_acc_history, validationEpoch_loss, val_acc_history\n"
   ]
  },
  {
   "cell_type": "markdown",
   "metadata": {},
   "source": [
    "### Training Models"
   ]
  },
  {
   "cell_type": "code",
   "execution_count": 23,
   "metadata": {},
   "outputs": [
    {
     "name": "stdout",
     "output_type": "stream",
     "text": [
      "Training with Adam Optimizer\n"
     ]
    },
    {
     "name": "stderr",
     "output_type": "stream",
     "text": [
      "  5%|▌         | 1/20 [00:10<03:20, 10.56s/it, loss=2.18, val_loss=2.59, train_acc=29.3, val_acc=53.7]"
     ]
    },
    {
     "name": "stdout",
     "output_type": "stream",
     "text": [
      "epoch 1 / 20, step 252/ 1259, loss = 2.1782, val_loss = 2.5860\n"
     ]
    },
    {
     "name": "stderr",
     "output_type": "stream",
     "text": [
      " 10%|█         | 2/20 [00:21<03:11, 10.64s/it, loss=4.18, val_loss=1.31, train_acc=57.1, val_acc=75.1]"
     ]
    },
    {
     "name": "stdout",
     "output_type": "stream",
     "text": [
      "epoch 2 / 20, step 252/ 1259, loss = 4.1786, val_loss = 1.3119\n"
     ]
    },
    {
     "name": "stderr",
     "output_type": "stream",
     "text": [
      " 15%|█▌        | 3/20 [00:31<03:01, 10.66s/it, loss=0.948, val_loss=0.737, train_acc=71.4, val_acc=84.4]"
     ]
    },
    {
     "name": "stdout",
     "output_type": "stream",
     "text": [
      "epoch 3 / 20, step 252/ 1259, loss = 0.9477, val_loss = 0.7372\n"
     ]
    },
    {
     "name": "stderr",
     "output_type": "stream",
     "text": [
      " 20%|██        | 4/20 [00:42<02:50, 10.68s/it, loss=1.38, val_loss=0.442, train_acc=79.6, val_acc=88.2] "
     ]
    },
    {
     "name": "stdout",
     "output_type": "stream",
     "text": [
      "epoch 4 / 20, step 252/ 1259, loss = 1.3792, val_loss = 0.4420\n"
     ]
    },
    {
     "name": "stderr",
     "output_type": "stream",
     "text": [
      " 25%|██▌       | 5/20 [00:53<02:39, 10.66s/it, loss=0.739, val_loss=0.211, train_acc=84.6, val_acc=90.5]"
     ]
    },
    {
     "name": "stdout",
     "output_type": "stream",
     "text": [
      "epoch 5 / 20, step 252/ 1259, loss = 0.7392, val_loss = 0.2113\n"
     ]
    },
    {
     "name": "stderr",
     "output_type": "stream",
     "text": [
      " 30%|███       | 6/20 [01:03<02:29, 10.66s/it, loss=0.258, val_loss=0.163, train_acc=88.3, val_acc=92.3]"
     ]
    },
    {
     "name": "stdout",
     "output_type": "stream",
     "text": [
      "epoch 6 / 20, step 252/ 1259, loss = 0.2583, val_loss = 0.1627\n"
     ]
    },
    {
     "name": "stderr",
     "output_type": "stream",
     "text": [
      " 35%|███▌      | 7/20 [01:14<02:18, 10.68s/it, loss=1.52, val_loss=0.558, train_acc=90.4, val_acc=93.2] "
     ]
    },
    {
     "name": "stdout",
     "output_type": "stream",
     "text": [
      "epoch 7 / 20, step 252/ 1259, loss = 1.5239, val_loss = 0.5578\n"
     ]
    },
    {
     "name": "stderr",
     "output_type": "stream",
     "text": [
      " 40%|████      | 8/20 [01:25<02:08, 10.68s/it, loss=0.000175, val_loss=0.473, train_acc=92.5, val_acc=93.7]"
     ]
    },
    {
     "name": "stdout",
     "output_type": "stream",
     "text": [
      "epoch 8 / 20, step 252/ 1259, loss = 0.0002, val_loss = 0.4731\n"
     ]
    },
    {
     "name": "stderr",
     "output_type": "stream",
     "text": [
      " 45%|████▌     | 9/20 [01:36<01:57, 10.68s/it, loss=0.158, val_loss=0.455, train_acc=93.9, val_acc=94.3]   "
     ]
    },
    {
     "name": "stdout",
     "output_type": "stream",
     "text": [
      "epoch 9 / 20, step 252/ 1259, loss = 0.1578, val_loss = 0.4554\n"
     ]
    },
    {
     "name": "stderr",
     "output_type": "stream",
     "text": [
      " 50%|█████     | 10/20 [01:46<01:46, 10.69s/it, loss=0.111, val_loss=0.121, train_acc=95.1, val_acc=94.7]"
     ]
    },
    {
     "name": "stdout",
     "output_type": "stream",
     "text": [
      "epoch 10 / 20, step 252/ 1259, loss = 0.1108, val_loss = 0.1207\n"
     ]
    },
    {
     "name": "stderr",
     "output_type": "stream",
     "text": [
      " 55%|█████▌    | 11/20 [01:57<01:35, 10.65s/it, loss=0.0203, val_loss=0.16, train_acc=95.8, val_acc=94.8]"
     ]
    },
    {
     "name": "stdout",
     "output_type": "stream",
     "text": [
      "epoch 11 / 20, step 252/ 1259, loss = 0.0203, val_loss = 0.1599\n"
     ]
    },
    {
     "name": "stderr",
     "output_type": "stream",
     "text": [
      " 60%|██████    | 12/20 [02:07<01:25, 10.66s/it, loss=0.0851, val_loss=0.0608, train_acc=96.6, val_acc=95]"
     ]
    },
    {
     "name": "stdout",
     "output_type": "stream",
     "text": [
      "epoch 12 / 20, step 252/ 1259, loss = 0.0851, val_loss = 0.0608\n"
     ]
    },
    {
     "name": "stderr",
     "output_type": "stream",
     "text": [
      " 65%|██████▌   | 13/20 [02:18<01:14, 10.66s/it, loss=0.125, val_loss=0.115, train_acc=97, val_acc=95.1]  "
     ]
    },
    {
     "name": "stdout",
     "output_type": "stream",
     "text": [
      "epoch 13 / 20, step 252/ 1259, loss = 0.1247, val_loss = 0.1154\n"
     ]
    },
    {
     "name": "stderr",
     "output_type": "stream",
     "text": [
      " 70%|███████   | 14/20 [02:29<01:03, 10.63s/it, loss=0.341, val_loss=0.0168, train_acc=97.5, val_acc=95.3]"
     ]
    },
    {
     "name": "stdout",
     "output_type": "stream",
     "text": [
      "epoch 14 / 20, step 252/ 1259, loss = 0.3408, val_loss = 0.0168\n"
     ]
    },
    {
     "name": "stderr",
     "output_type": "stream",
     "text": [
      " 75%|███████▌  | 15/20 [02:39<00:53, 10.63s/it, loss=0.285, val_loss=0.249, train_acc=97.7, val_acc=95.4] "
     ]
    },
    {
     "name": "stdout",
     "output_type": "stream",
     "text": [
      "epoch 15 / 20, step 252/ 1259, loss = 0.2847, val_loss = 0.2488\n"
     ]
    },
    {
     "name": "stderr",
     "output_type": "stream",
     "text": [
      " 80%|████████  | 16/20 [02:50<00:42, 10.64s/it, loss=0.0182, val_loss=0.351, train_acc=98.1, val_acc=95.3]"
     ]
    },
    {
     "name": "stdout",
     "output_type": "stream",
     "text": [
      "epoch 16 / 20, step 252/ 1259, loss = 0.0182, val_loss = 0.3514\n"
     ]
    },
    {
     "name": "stderr",
     "output_type": "stream",
     "text": [
      " 85%|████████▌ | 17/20 [03:01<00:31, 10.64s/it, loss=0.00013, val_loss=0.4, train_acc=98.2, val_acc=95.6] "
     ]
    },
    {
     "name": "stdout",
     "output_type": "stream",
     "text": [
      "epoch 17 / 20, step 252/ 1259, loss = 0.0001, val_loss = 0.4000\n"
     ]
    },
    {
     "name": "stderr",
     "output_type": "stream",
     "text": [
      " 90%|█████████ | 18/20 [03:11<00:21, 10.60s/it, loss=0.0133, val_loss=0.00227, train_acc=98.4, val_acc=95.4]"
     ]
    },
    {
     "name": "stdout",
     "output_type": "stream",
     "text": [
      "epoch 18 / 20, step 252/ 1259, loss = 0.0133, val_loss = 0.0023\n"
     ]
    },
    {
     "name": "stderr",
     "output_type": "stream",
     "text": [
      " 95%|█████████▌| 19/20 [03:22<00:10, 10.59s/it, loss=0.00339, val_loss=0.634, train_acc=98.6, val_acc=95.6] "
     ]
    },
    {
     "name": "stdout",
     "output_type": "stream",
     "text": [
      "epoch 19 / 20, step 252/ 1259, loss = 0.0034, val_loss = 0.6339\n"
     ]
    },
    {
     "name": "stderr",
     "output_type": "stream",
     "text": [
      "100%|██████████| 20/20 [03:32<00:00, 10.64s/it, loss=0.126, val_loss=0.18, train_acc=98.7, val_acc=95.5]   \n"
     ]
    },
    {
     "name": "stdout",
     "output_type": "stream",
     "text": [
      "epoch 20 / 20, step 252/ 1259, loss = 0.1256, val_loss = 0.1803\n",
      "Training with SGD Optimizer\n"
     ]
    },
    {
     "name": "stderr",
     "output_type": "stream",
     "text": [
      "  2%|▏         | 1/60 [00:07<07:16,  7.40s/it, loss=2.94, val_loss=3.64, train_acc=12.6, val_acc=13.3]"
     ]
    },
    {
     "name": "stdout",
     "output_type": "stream",
     "text": [
      "epoch 1 / 60, step 252/ 1259, loss = 2.9385, val_loss = 3.6355\n"
     ]
    },
    {
     "name": "stderr",
     "output_type": "stream",
     "text": [
      "  3%|▎         | 2/60 [00:14<07:08,  7.39s/it, loss=3.63, val_loss=3.43, train_acc=13, val_acc=13.3]  "
     ]
    },
    {
     "name": "stdout",
     "output_type": "stream",
     "text": [
      "epoch 2 / 60, step 252/ 1259, loss = 3.6287, val_loss = 3.4290\n"
     ]
    },
    {
     "name": "stderr",
     "output_type": "stream",
     "text": [
      "  5%|▌         | 3/60 [00:22<06:59,  7.36s/it, loss=3.37, val_loss=3.3, train_acc=14.5, val_acc=19.6]"
     ]
    },
    {
     "name": "stdout",
     "output_type": "stream",
     "text": [
      "epoch 3 / 60, step 252/ 1259, loss = 3.3711, val_loss = 3.3016\n"
     ]
    },
    {
     "name": "stderr",
     "output_type": "stream",
     "text": [
      "  7%|▋         | 4/60 [00:29<06:53,  7.39s/it, loss=2.62, val_loss=2.94, train_acc=18, val_acc=21.2] "
     ]
    },
    {
     "name": "stdout",
     "output_type": "stream",
     "text": [
      "epoch 4 / 60, step 252/ 1259, loss = 2.6181, val_loss = 2.9416\n"
     ]
    },
    {
     "name": "stderr",
     "output_type": "stream",
     "text": [
      "  8%|▊         | 5/60 [00:36<06:46,  7.38s/it, loss=0.986, val_loss=3.27, train_acc=21.3, val_acc=26.6]"
     ]
    },
    {
     "name": "stdout",
     "output_type": "stream",
     "text": [
      "epoch 5 / 60, step 252/ 1259, loss = 0.9859, val_loss = 3.2693\n"
     ]
    },
    {
     "name": "stderr",
     "output_type": "stream",
     "text": [
      " 10%|█         | 6/60 [00:44<06:39,  7.39s/it, loss=0.999, val_loss=3.17, train_acc=25.6, val_acc=28.6]"
     ]
    },
    {
     "name": "stdout",
     "output_type": "stream",
     "text": [
      "epoch 6 / 60, step 252/ 1259, loss = 0.9994, val_loss = 3.1694\n"
     ]
    },
    {
     "name": "stderr",
     "output_type": "stream",
     "text": [
      " 12%|█▏        | 7/60 [00:51<06:32,  7.40s/it, loss=3.39, val_loss=2.73, train_acc=28.1, val_acc=31.3] "
     ]
    },
    {
     "name": "stdout",
     "output_type": "stream",
     "text": [
      "epoch 7 / 60, step 252/ 1259, loss = 3.3917, val_loss = 2.7301\n"
     ]
    },
    {
     "name": "stderr",
     "output_type": "stream",
     "text": [
      " 13%|█▎        | 8/60 [00:59<06:24,  7.40s/it, loss=5.02, val_loss=2.8, train_acc=30.5, val_acc=33.8] "
     ]
    },
    {
     "name": "stdout",
     "output_type": "stream",
     "text": [
      "epoch 8 / 60, step 252/ 1259, loss = 5.0241, val_loss = 2.7974\n"
     ]
    },
    {
     "name": "stderr",
     "output_type": "stream",
     "text": [
      " 15%|█▌        | 9/60 [01:06<06:19,  7.44s/it, loss=4.18, val_loss=2.86, train_acc=33.1, val_acc=37.1]"
     ]
    },
    {
     "name": "stdout",
     "output_type": "stream",
     "text": [
      "epoch 9 / 60, step 252/ 1259, loss = 4.1808, val_loss = 2.8604\n"
     ]
    },
    {
     "name": "stderr",
     "output_type": "stream",
     "text": [
      " 17%|█▋        | 10/60 [01:14<06:10,  7.41s/it, loss=1.91, val_loss=2.02, train_acc=35.4, val_acc=39.7]"
     ]
    },
    {
     "name": "stdout",
     "output_type": "stream",
     "text": [
      "epoch 10 / 60, step 252/ 1259, loss = 1.9106, val_loss = 2.0208\n"
     ]
    },
    {
     "name": "stderr",
     "output_type": "stream",
     "text": [
      " 18%|█▊        | 11/60 [01:21<06:02,  7.40s/it, loss=3.62, val_loss=2.27, train_acc=37.9, val_acc=42.4]"
     ]
    },
    {
     "name": "stdout",
     "output_type": "stream",
     "text": [
      "epoch 11 / 60, step 252/ 1259, loss = 3.6166, val_loss = 2.2657\n"
     ]
    },
    {
     "name": "stderr",
     "output_type": "stream",
     "text": [
      " 20%|██        | 12/60 [01:28<05:55,  7.40s/it, loss=0.139, val_loss=1.96, train_acc=40.4, val_acc=45.9]"
     ]
    },
    {
     "name": "stdout",
     "output_type": "stream",
     "text": [
      "epoch 12 / 60, step 252/ 1259, loss = 0.1388, val_loss = 1.9649\n"
     ]
    },
    {
     "name": "stderr",
     "output_type": "stream",
     "text": [
      " 22%|██▏       | 13/60 [01:36<05:47,  7.39s/it, loss=2.5, val_loss=1.69, train_acc=43.4, val_acc=49]    "
     ]
    },
    {
     "name": "stdout",
     "output_type": "stream",
     "text": [
      "epoch 13 / 60, step 252/ 1259, loss = 2.4960, val_loss = 1.6891\n"
     ]
    },
    {
     "name": "stderr",
     "output_type": "stream",
     "text": [
      " 23%|██▎       | 14/60 [01:43<05:40,  7.40s/it, loss=0.964, val_loss=1.33, train_acc=46.4, val_acc=53.9]"
     ]
    },
    {
     "name": "stdout",
     "output_type": "stream",
     "text": [
      "epoch 14 / 60, step 252/ 1259, loss = 0.9642, val_loss = 1.3261\n"
     ]
    },
    {
     "name": "stderr",
     "output_type": "stream",
     "text": [
      " 25%|██▌       | 15/60 [01:50<05:31,  7.37s/it, loss=3.13, val_loss=2.14, train_acc=49.5, val_acc=57.5] "
     ]
    },
    {
     "name": "stdout",
     "output_type": "stream",
     "text": [
      "epoch 15 / 60, step 252/ 1259, loss = 3.1280, val_loss = 2.1430\n"
     ]
    },
    {
     "name": "stderr",
     "output_type": "stream",
     "text": [
      " 27%|██▋       | 16/60 [01:58<05:23,  7.36s/it, loss=1.24, val_loss=1.93, train_acc=52.6, val_acc=60.8]"
     ]
    },
    {
     "name": "stdout",
     "output_type": "stream",
     "text": [
      "epoch 16 / 60, step 252/ 1259, loss = 1.2433, val_loss = 1.9270\n"
     ]
    },
    {
     "name": "stderr",
     "output_type": "stream",
     "text": [
      " 28%|██▊       | 17/60 [02:05<05:16,  7.35s/it, loss=2.27, val_loss=1.37, train_acc=55.5, val_acc=63.9]"
     ]
    },
    {
     "name": "stdout",
     "output_type": "stream",
     "text": [
      "epoch 17 / 60, step 252/ 1259, loss = 2.2692, val_loss = 1.3657\n"
     ]
    },
    {
     "name": "stderr",
     "output_type": "stream",
     "text": [
      " 30%|███       | 18/60 [02:12<05:09,  7.36s/it, loss=1.41, val_loss=1.71, train_acc=58.1, val_acc=67]  "
     ]
    },
    {
     "name": "stdout",
     "output_type": "stream",
     "text": [
      "epoch 18 / 60, step 252/ 1259, loss = 1.4074, val_loss = 1.7128\n"
     ]
    },
    {
     "name": "stderr",
     "output_type": "stream",
     "text": [
      " 32%|███▏      | 19/60 [02:20<05:02,  7.37s/it, loss=0.266, val_loss=0.955, train_acc=61.1, val_acc=69.5]"
     ]
    },
    {
     "name": "stdout",
     "output_type": "stream",
     "text": [
      "epoch 19 / 60, step 252/ 1259, loss = 0.2665, val_loss = 0.9552\n"
     ]
    },
    {
     "name": "stderr",
     "output_type": "stream",
     "text": [
      " 33%|███▎      | 20/60 [02:27<04:55,  7.38s/it, loss=0.598, val_loss=1.53, train_acc=63, val_acc=71.4]   "
     ]
    },
    {
     "name": "stdout",
     "output_type": "stream",
     "text": [
      "epoch 20 / 60, step 252/ 1259, loss = 0.5980, val_loss = 1.5316\n"
     ]
    },
    {
     "name": "stderr",
     "output_type": "stream",
     "text": [
      " 35%|███▌      | 21/60 [02:35<04:48,  7.39s/it, loss=1.09, val_loss=1.16, train_acc=65.4, val_acc=72.9]"
     ]
    },
    {
     "name": "stdout",
     "output_type": "stream",
     "text": [
      "epoch 21 / 60, step 252/ 1259, loss = 1.0933, val_loss = 1.1559\n"
     ]
    },
    {
     "name": "stderr",
     "output_type": "stream",
     "text": [
      " 37%|███▋      | 22/60 [02:42<04:40,  7.39s/it, loss=1.01, val_loss=1.16, train_acc=67.5, val_acc=74.7]"
     ]
    },
    {
     "name": "stdout",
     "output_type": "stream",
     "text": [
      "epoch 22 / 60, step 252/ 1259, loss = 1.0116, val_loss = 1.1634\n"
     ]
    },
    {
     "name": "stderr",
     "output_type": "stream",
     "text": [
      " 38%|███▊      | 23/60 [02:49<04:32,  7.36s/it, loss=1.3, val_loss=0.929, train_acc=68.9, val_acc=76.3]"
     ]
    },
    {
     "name": "stdout",
     "output_type": "stream",
     "text": [
      "epoch 23 / 60, step 252/ 1259, loss = 1.2964, val_loss = 0.9295\n"
     ]
    },
    {
     "name": "stderr",
     "output_type": "stream",
     "text": [
      " 40%|████      | 24/60 [02:57<04:25,  7.38s/it, loss=0.0197, val_loss=1.03, train_acc=70.8, val_acc=77.1]"
     ]
    },
    {
     "name": "stdout",
     "output_type": "stream",
     "text": [
      "epoch 24 / 60, step 252/ 1259, loss = 0.0197, val_loss = 1.0345\n"
     ]
    },
    {
     "name": "stderr",
     "output_type": "stream",
     "text": [
      " 42%|████▏     | 25/60 [03:04<04:18,  7.37s/it, loss=1.55, val_loss=0.812, train_acc=72.6, val_acc=78.4] "
     ]
    },
    {
     "name": "stdout",
     "output_type": "stream",
     "text": [
      "epoch 25 / 60, step 252/ 1259, loss = 1.5522, val_loss = 0.8124\n"
     ]
    },
    {
     "name": "stderr",
     "output_type": "stream",
     "text": [
      " 43%|████▎     | 26/60 [03:11<04:10,  7.37s/it, loss=1.46, val_loss=0.406, train_acc=73.9, val_acc=79.5]"
     ]
    },
    {
     "name": "stdout",
     "output_type": "stream",
     "text": [
      "epoch 26 / 60, step 252/ 1259, loss = 1.4593, val_loss = 0.4063\n"
     ]
    },
    {
     "name": "stderr",
     "output_type": "stream",
     "text": [
      " 45%|████▌     | 27/60 [03:19<04:03,  7.37s/it, loss=0.263, val_loss=0.947, train_acc=75, val_acc=80.8] "
     ]
    },
    {
     "name": "stdout",
     "output_type": "stream",
     "text": [
      "epoch 27 / 60, step 252/ 1259, loss = 0.2632, val_loss = 0.9467\n"
     ]
    },
    {
     "name": "stderr",
     "output_type": "stream",
     "text": [
      " 47%|████▋     | 28/60 [03:26<03:56,  7.38s/it, loss=0.135, val_loss=1.1, train_acc=76.6, val_acc=81.4]"
     ]
    },
    {
     "name": "stdout",
     "output_type": "stream",
     "text": [
      "epoch 28 / 60, step 252/ 1259, loss = 0.1347, val_loss = 1.0963\n"
     ]
    },
    {
     "name": "stderr",
     "output_type": "stream",
     "text": [
      " 48%|████▊     | 29/60 [03:34<03:51,  7.46s/it, loss=0.000278, val_loss=0.449, train_acc=77.5, val_acc=82.4]"
     ]
    },
    {
     "name": "stdout",
     "output_type": "stream",
     "text": [
      "epoch 29 / 60, step 252/ 1259, loss = 0.0003, val_loss = 0.4487\n"
     ]
    },
    {
     "name": "stderr",
     "output_type": "stream",
     "text": [
      " 50%|█████     | 30/60 [03:41<03:42,  7.41s/it, loss=0.274, val_loss=0.468, train_acc=78.7, val_acc=82.7]   "
     ]
    },
    {
     "name": "stdout",
     "output_type": "stream",
     "text": [
      "epoch 30 / 60, step 252/ 1259, loss = 0.2736, val_loss = 0.4682\n"
     ]
    },
    {
     "name": "stderr",
     "output_type": "stream",
     "text": [
      " 52%|█████▏    | 31/60 [03:48<03:33,  7.36s/it, loss=0.559, val_loss=0.52, train_acc=79.8, val_acc=83.6] "
     ]
    },
    {
     "name": "stdout",
     "output_type": "stream",
     "text": [
      "epoch 31 / 60, step 252/ 1259, loss = 0.5587, val_loss = 0.5200\n"
     ]
    },
    {
     "name": "stderr",
     "output_type": "stream",
     "text": [
      " 53%|█████▎    | 32/60 [03:56<03:25,  7.32s/it, loss=0.0175, val_loss=0.398, train_acc=80.5, val_acc=84.2]"
     ]
    },
    {
     "name": "stdout",
     "output_type": "stream",
     "text": [
      "epoch 32 / 60, step 252/ 1259, loss = 0.0175, val_loss = 0.3980\n"
     ]
    },
    {
     "name": "stderr",
     "output_type": "stream",
     "text": [
      " 55%|█████▌    | 33/60 [04:03<03:17,  7.31s/it, loss=0.107, val_loss=0.61, train_acc=81.7, val_acc=84.6]  "
     ]
    },
    {
     "name": "stdout",
     "output_type": "stream",
     "text": [
      "epoch 33 / 60, step 252/ 1259, loss = 0.1068, val_loss = 0.6099\n"
     ]
    },
    {
     "name": "stderr",
     "output_type": "stream",
     "text": [
      " 57%|█████▋    | 34/60 [04:10<03:08,  7.27s/it, loss=1.56, val_loss=0.592, train_acc=82.5, val_acc=85.1]"
     ]
    },
    {
     "name": "stdout",
     "output_type": "stream",
     "text": [
      "epoch 34 / 60, step 252/ 1259, loss = 1.5607, val_loss = 0.5924\n"
     ]
    },
    {
     "name": "stderr",
     "output_type": "stream",
     "text": [
      " 58%|█████▊    | 35/60 [04:17<03:01,  7.26s/it, loss=0.583, val_loss=0.489, train_acc=83.4, val_acc=85.7]"
     ]
    },
    {
     "name": "stdout",
     "output_type": "stream",
     "text": [
      "epoch 35 / 60, step 252/ 1259, loss = 0.5834, val_loss = 0.4892\n"
     ]
    },
    {
     "name": "stderr",
     "output_type": "stream",
     "text": [
      " 60%|██████    | 36/60 [04:25<02:54,  7.25s/it, loss=0.168, val_loss=0.286, train_acc=84.2, val_acc=85.9]"
     ]
    },
    {
     "name": "stdout",
     "output_type": "stream",
     "text": [
      "epoch 36 / 60, step 252/ 1259, loss = 0.1682, val_loss = 0.2855\n"
     ]
    },
    {
     "name": "stderr",
     "output_type": "stream",
     "text": [
      " 62%|██████▏   | 37/60 [04:32<02:46,  7.24s/it, loss=0.718, val_loss=0.372, train_acc=85, val_acc=86.4]  "
     ]
    },
    {
     "name": "stdout",
     "output_type": "stream",
     "text": [
      "epoch 37 / 60, step 252/ 1259, loss = 0.7182, val_loss = 0.3718\n"
     ]
    },
    {
     "name": "stderr",
     "output_type": "stream",
     "text": [
      " 63%|██████▎   | 38/60 [04:39<02:38,  7.22s/it, loss=0.872, val_loss=0.495, train_acc=85.4, val_acc=86.8]"
     ]
    },
    {
     "name": "stdout",
     "output_type": "stream",
     "text": [
      "epoch 38 / 60, step 252/ 1259, loss = 0.8720, val_loss = 0.4949\n"
     ]
    },
    {
     "name": "stderr",
     "output_type": "stream",
     "text": [
      " 65%|██████▌   | 39/60 [04:46<02:31,  7.22s/it, loss=0.115, val_loss=0.518, train_acc=86.3, val_acc=87.2]"
     ]
    },
    {
     "name": "stdout",
     "output_type": "stream",
     "text": [
      "epoch 39 / 60, step 252/ 1259, loss = 0.1149, val_loss = 0.5176\n"
     ]
    },
    {
     "name": "stderr",
     "output_type": "stream",
     "text": [
      " 67%|██████▋   | 40/60 [04:53<02:24,  7.21s/it, loss=0.619, val_loss=0.543, train_acc=87, val_acc=87.4]  "
     ]
    },
    {
     "name": "stdout",
     "output_type": "stream",
     "text": [
      "epoch 40 / 60, step 252/ 1259, loss = 0.6194, val_loss = 0.5425\n"
     ]
    },
    {
     "name": "stderr",
     "output_type": "stream",
     "text": [
      " 68%|██████▊   | 41/60 [05:01<02:17,  7.21s/it, loss=0.52, val_loss=0.256, train_acc=87.6, val_acc=87.7]"
     ]
    },
    {
     "name": "stdout",
     "output_type": "stream",
     "text": [
      "epoch 41 / 60, step 252/ 1259, loss = 0.5196, val_loss = 0.2561\n"
     ]
    },
    {
     "name": "stderr",
     "output_type": "stream",
     "text": [
      " 70%|███████   | 42/60 [05:08<02:10,  7.24s/it, loss=0.515, val_loss=0.625, train_acc=88, val_acc=88]   "
     ]
    },
    {
     "name": "stdout",
     "output_type": "stream",
     "text": [
      "epoch 42 / 60, step 252/ 1259, loss = 0.5150, val_loss = 0.6252\n"
     ]
    },
    {
     "name": "stderr",
     "output_type": "stream",
     "text": [
      " 72%|███████▏  | 43/60 [05:15<02:03,  7.26s/it, loss=1.4, val_loss=0.724, train_acc=88.5, val_acc=88.1]"
     ]
    },
    {
     "name": "stdout",
     "output_type": "stream",
     "text": [
      "epoch 43 / 60, step 252/ 1259, loss = 1.3993, val_loss = 0.7241\n"
     ]
    },
    {
     "name": "stderr",
     "output_type": "stream",
     "text": [
      " 73%|███████▎  | 44/60 [05:22<01:56,  7.26s/it, loss=0.0238, val_loss=0.882, train_acc=89.1, val_acc=88.3]"
     ]
    },
    {
     "name": "stdout",
     "output_type": "stream",
     "text": [
      "epoch 44 / 60, step 252/ 1259, loss = 0.0238, val_loss = 0.8815\n"
     ]
    },
    {
     "name": "stderr",
     "output_type": "stream",
     "text": [
      " 75%|███████▌  | 45/60 [05:30<01:49,  7.29s/it, loss=0.131, val_loss=0.305, train_acc=89.5, val_acc=88.6] "
     ]
    },
    {
     "name": "stdout",
     "output_type": "stream",
     "text": [
      "epoch 45 / 60, step 252/ 1259, loss = 0.1311, val_loss = 0.3053\n"
     ]
    },
    {
     "name": "stderr",
     "output_type": "stream",
     "text": [
      " 77%|███████▋  | 46/60 [05:37<01:42,  7.31s/it, loss=0.0699, val_loss=0.346, train_acc=89.9, val_acc=88.6]"
     ]
    },
    {
     "name": "stdout",
     "output_type": "stream",
     "text": [
      "epoch 46 / 60, step 252/ 1259, loss = 0.0699, val_loss = 0.3455\n"
     ]
    },
    {
     "name": "stderr",
     "output_type": "stream",
     "text": [
      " 78%|███████▊  | 47/60 [05:44<01:34,  7.29s/it, loss=1.25, val_loss=0.237, train_acc=90.5, val_acc=88.8]  "
     ]
    },
    {
     "name": "stdout",
     "output_type": "stream",
     "text": [
      "epoch 47 / 60, step 252/ 1259, loss = 1.2529, val_loss = 0.2366\n"
     ]
    },
    {
     "name": "stderr",
     "output_type": "stream",
     "text": [
      " 80%|████████  | 48/60 [05:52<01:27,  7.28s/it, loss=0.374, val_loss=0.18, train_acc=90.8, val_acc=89.1]"
     ]
    },
    {
     "name": "stdout",
     "output_type": "stream",
     "text": [
      "epoch 48 / 60, step 252/ 1259, loss = 0.3736, val_loss = 0.1800\n"
     ]
    },
    {
     "name": "stderr",
     "output_type": "stream",
     "text": [
      " 82%|████████▏ | 49/60 [05:59<01:19,  7.25s/it, loss=0.0348, val_loss=0.18, train_acc=91, val_acc=89.2] "
     ]
    },
    {
     "name": "stdout",
     "output_type": "stream",
     "text": [
      "epoch 49 / 60, step 252/ 1259, loss = 0.0348, val_loss = 0.1805\n"
     ]
    },
    {
     "name": "stderr",
     "output_type": "stream",
     "text": [
      " 83%|████████▎ | 50/60 [06:06<01:12,  7.26s/it, loss=0.115, val_loss=0.673, train_acc=91.3, val_acc=89.5]"
     ]
    },
    {
     "name": "stdout",
     "output_type": "stream",
     "text": [
      "epoch 50 / 60, step 252/ 1259, loss = 0.1154, val_loss = 0.6731\n"
     ]
    },
    {
     "name": "stderr",
     "output_type": "stream",
     "text": [
      " 85%|████████▌ | 51/60 [06:13<01:05,  7.26s/it, loss=0.122, val_loss=0.422, train_acc=92.1, val_acc=89.8]"
     ]
    },
    {
     "name": "stdout",
     "output_type": "stream",
     "text": [
      "epoch 51 / 60, step 252/ 1259, loss = 0.1217, val_loss = 0.4219\n"
     ]
    },
    {
     "name": "stderr",
     "output_type": "stream",
     "text": [
      " 87%|████████▋ | 52/60 [06:21<00:58,  7.25s/it, loss=1.06, val_loss=0.561, train_acc=92.1, val_acc=89.8] "
     ]
    },
    {
     "name": "stdout",
     "output_type": "stream",
     "text": [
      "epoch 52 / 60, step 252/ 1259, loss = 1.0564, val_loss = 0.5613\n"
     ]
    },
    {
     "name": "stderr",
     "output_type": "stream",
     "text": [
      " 88%|████████▊ | 53/60 [06:28<00:50,  7.25s/it, loss=0.00102, val_loss=0.371, train_acc=92.4, val_acc=90]"
     ]
    },
    {
     "name": "stdout",
     "output_type": "stream",
     "text": [
      "epoch 53 / 60, step 252/ 1259, loss = 0.0010, val_loss = 0.3711\n"
     ]
    },
    {
     "name": "stderr",
     "output_type": "stream",
     "text": [
      " 90%|█████████ | 54/60 [06:35<00:43,  7.25s/it, loss=0.424, val_loss=0.999, train_acc=92.8, val_acc=89.9]"
     ]
    },
    {
     "name": "stdout",
     "output_type": "stream",
     "text": [
      "epoch 54 / 60, step 252/ 1259, loss = 0.4235, val_loss = 0.9991\n"
     ]
    },
    {
     "name": "stderr",
     "output_type": "stream",
     "text": [
      " 92%|█████████▏| 55/60 [06:42<00:36,  7.25s/it, loss=0.222, val_loss=0.705, train_acc=93, val_acc=90.2]  "
     ]
    },
    {
     "name": "stdout",
     "output_type": "stream",
     "text": [
      "epoch 55 / 60, step 252/ 1259, loss = 0.2224, val_loss = 0.7053\n"
     ]
    },
    {
     "name": "stderr",
     "output_type": "stream",
     "text": [
      " 93%|█████████▎| 56/60 [06:50<00:28,  7.25s/it, loss=0.00857, val_loss=0.116, train_acc=93.3, val_acc=90.3]"
     ]
    },
    {
     "name": "stdout",
     "output_type": "stream",
     "text": [
      "epoch 56 / 60, step 252/ 1259, loss = 0.0086, val_loss = 0.1160\n"
     ]
    },
    {
     "name": "stderr",
     "output_type": "stream",
     "text": [
      " 95%|█████████▌| 57/60 [06:57<00:21,  7.25s/it, loss=5.42e-5, val_loss=0.611, train_acc=93.5, val_acc=90.5]"
     ]
    },
    {
     "name": "stdout",
     "output_type": "stream",
     "text": [
      "epoch 57 / 60, step 252/ 1259, loss = 0.0001, val_loss = 0.6113\n"
     ]
    },
    {
     "name": "stderr",
     "output_type": "stream",
     "text": [
      " 97%|█████████▋| 58/60 [07:04<00:14,  7.25s/it, loss=0.616, val_loss=0.466, train_acc=94, val_acc=90.4]    "
     ]
    },
    {
     "name": "stdout",
     "output_type": "stream",
     "text": [
      "epoch 58 / 60, step 252/ 1259, loss = 0.6159, val_loss = 0.4662\n"
     ]
    },
    {
     "name": "stderr",
     "output_type": "stream",
     "text": [
      " 98%|█████████▊| 59/60 [07:11<00:07,  7.25s/it, loss=0.511, val_loss=0.491, train_acc=94, val_acc=90.5]"
     ]
    },
    {
     "name": "stdout",
     "output_type": "stream",
     "text": [
      "epoch 59 / 60, step 252/ 1259, loss = 0.5106, val_loss = 0.4909\n"
     ]
    },
    {
     "name": "stderr",
     "output_type": "stream",
     "text": [
      "100%|██████████| 60/60 [07:19<00:00,  7.32s/it, loss=0.184, val_loss=0.219, train_acc=94.3, val_acc=90.7]"
     ]
    },
    {
     "name": "stdout",
     "output_type": "stream",
     "text": [
      "epoch 60 / 60, step 252/ 1259, loss = 0.1837, val_loss = 0.2186\n"
     ]
    },
    {
     "name": "stderr",
     "output_type": "stream",
     "text": [
      "\n"
     ]
    }
   ],
   "source": [
    "print('Training with Adam Optimizer')\n",
    "adam_model, adam_training_losses,adam_training_acc,adam_val_losses,adam_val_acc= train_model('Adam',0.0001,20)\n",
    "print('Training with SGD Optimizer')\n",
    "SGD_model, SGD_training_losses,SGD_training_acc,SGD_val_losses,SGD_val_acc= train_model('SGD',0.001,60)"
   ]
  },
  {
   "cell_type": "markdown",
   "metadata": {},
   "source": [
    "### Plotting learning curves"
   ]
  },
  {
   "cell_type": "code",
   "execution_count": 29,
   "metadata": {},
   "outputs": [
    {
     "data": {
      "image/png": "[encoded data removed]",
      "text/plain": [
       "<Figure size 1000x400 with 2 Axes>"
      ]
     },
     "metadata": {},
     "output_type": "display_data"
    },
    {
     "data": {
      "image/png": "[encoded data removed]",
      "text/plain": [
       "<Figure size 1000x400 with 2 Axes>"
      ]
     },
     "metadata": {},
     "output_type": "display_data"
    }
   ],
   "source": [
    "from matplotlib import pyplot as plt\n",
    "# adam_training_losses,adam_training_acc,adam_val_losses,adam_val_acc\n",
    "# Plotting of Adam training results\n",
    "plt.figure(figsize=(10,4))\n",
    "plt.subplot(1,2,1)\n",
    "plt.title(\"Adam loss training curve\") \n",
    "plt.plot(adam_training_losses, label='train_loss')\n",
    "plt.plot(adam_val_losses,label='val_loss')\n",
    "\n",
    "plt.subplot(1,2,2)\n",
    "plt.title(\"Adam accuracy training curve\") \n",
    "plt.plot(adam_training_acc, label='train_loss')\n",
    "plt.plot(adam_val_acc,label='val_loss')\n",
    "\n",
    "plt.legend()\n",
    "plt.show()\n",
    "\n",
    "# Plotting of SGD training results\n",
    "plt.figure(figsize=(10,4))\n",
    "plt.subplot(1,2,1)\n",
    "plt.title(\"SGD loss training curve\") \n",
    "plt.plot(SGD_training_losses, label='train_loss')\n",
    "plt.plot(SGD_val_losses,label='val_loss')\n",
    "\n",
    "plt.subplot(1,2,2)\n",
    "plt.title(\"SGD Accuracy training curve\") \n",
    "plt.plot(SGD_training_acc, label='train_loss')\n",
    "plt.plot(SGD_val_acc,label='val_loss')\n",
    "\n",
    "plt.legend()\n",
    "plt.show()"
   ]
  },
  {
   "cell_type": "markdown",
   "metadata": {},
   "source": [
    "### Testing Model with Adam Optimizer"
   ]
  },
  {
   "cell_type": "code",
   "execution_count": null,
   "metadata": {},
   "outputs": [],
   "source": [
    "from sklearn.metrics import confusion_matrix\n",
    "import matplotlib.pyplot as plt\n",
    "import seaborn as sns\n",
    "\n",
    "x_test = torch.Tensor(x_test).to(device)\n",
    "outputs = adam_model(x_test)\n",
    "_, pred = torch.max(outputs,1)\n",
    "pred = pred.to('cpu')\n",
    "mat= confusion_matrix(y_test,pred)\n"
   ]
  },
  {
   "cell_type": "code",
   "execution_count": null,
   "metadata": {},
   "outputs": [
    {
     "data": {
      "text/plain": [
       "<Axes: >"
      ]
     },
     "execution_count": 91,
     "metadata": {},
     "output_type": "execute_result"
    },
    {
     "data": {
      "image/png": "[encoded data removed]",
      "text/plain": [
       "<Figure size 2000x2000 with 2 Axes>"
      ]
     },
     "metadata": {},
     "output_type": "display_data"
    }
   ],
   "source": [
    "plt.figure(figsize=(20,20))\n",
    "sns.heatmap(mat, annot= True,vmax=100)"
   ]
  },
  {
   "cell_type": "code",
   "execution_count": null,
   "metadata": {},
   "outputs": [
    {
     "name": "stdout",
     "output_type": "stream",
     "text": [
      "              precision    recall  f1-score   support\n",
      "\n",
      "           0       0.94      0.98      0.96        84\n",
      "           1       0.95      0.84      0.89        45\n",
      "           2       0.95      0.91      0.93        22\n",
      "           3       0.90      0.87      0.88       168\n",
      "           4       0.89      0.82      0.85        38\n",
      "           5       0.97      0.98      0.97       685\n",
      "           6       0.95      0.98      0.97       106\n",
      "           7       0.98      0.98      0.98        63\n",
      "           8       0.88      0.88      0.88        32\n",
      "           9       0.92      0.95      0.94        64\n",
      "          10       0.98      0.84      0.90        50\n",
      "          11       0.98      0.99      0.98       273\n",
      "          12       0.96      0.99      0.97       146\n",
      "          13       0.94      0.73      0.82        22\n",
      "          14       0.93      0.80      0.86        66\n",
      "          15       0.99      0.98      0.99       104\n",
      "          16       0.93      0.93      0.93       135\n",
      "          17       1.00      0.96      0.98        68\n",
      "          18       0.99      0.96      0.97       248\n",
      "          19       0.97      0.97      0.97        38\n",
      "          20       0.79      0.88      0.84        43\n",
      "          21       0.90      0.85      0.88        41\n",
      "          22       0.96      0.96      0.96       114\n",
      "          23       1.00      1.00      1.00       463\n",
      "          24       0.90      0.96      0.93        28\n",
      "          25       0.95      0.93      0.94       105\n",
      "          26       0.95      0.87      0.91        62\n",
      "          27       0.96      0.96      0.96       109\n",
      "          28       0.91      0.94      0.93        68\n",
      "          29       0.93      0.97      0.95       159\n",
      "          30       1.00      0.79      0.88        29\n",
      "          31       0.86      0.92      0.89        59\n",
      "          32       0.99      1.00      0.99        71\n",
      "          33       0.92      0.94      0.93       231\n",
      "          34       0.97      0.96      0.96       135\n",
      "          35       0.95      0.96      0.96       210\n",
      "          36       0.88      0.97      0.93        39\n",
      "          37       0.91      0.91      0.91        94\n",
      "          38       0.99      1.00      0.99        93\n",
      "          39       0.99      0.97      0.98       133\n",
      "          40       0.91      0.82      0.86        39\n",
      "          41       0.95      0.96      0.95       237\n",
      "          42       0.95      0.93      0.94        67\n",
      "          43       0.91      0.92      0.92       191\n",
      "          44       0.84      0.95      0.89        91\n",
      "\n",
      "    accuracy                           0.95      5368\n",
      "   macro avg       0.94      0.93      0.93      5368\n",
      "weighted avg       0.95      0.95      0.95      5368\n",
      "\n"
     ]
    }
   ],
   "source": [
    "from sklearn.metrics import classification_report\n",
    "\n",
    "print(classification_report(y_test,pred))"
   ]
  }
 ],
 "metadata": {
  "kernelspec": {
   "display_name": "env_2",
   "language": "python",
   "name": "python3"
  },
  "language_info": {
   "codemirror_mode": {
    "name": "ipython",
    "version": 3
   },
   "file_extension": ".py",
   "mimetype": "text/x-python",
   "name": "python",
   "nbconvert_exporter": "python",
   "pygments_lexer": "ipython3",
   "version": "3.8.18"
  }
 },
 "nbformat": 4,
 "nbformat_minor": 2
}
